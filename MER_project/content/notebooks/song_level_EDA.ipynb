{
 "cells": [
  {
   "cell_type": "markdown",
   "id": "3a606196",
   "metadata": {},
   "source": [
    "# Song-Level EDA\n",
    "Initial exploration of song-level dataset for arousal and valence."
   ]
  },
  {
   "cell_type": "code",
   "execution_count": null,
   "id": "f10f3af3",
   "metadata": {},
   "outputs": [],
   "source": [
    "import pandas as pd\n",
    "import matplotlib.pyplot as plt\n",
    "import seaborn as sns\n\n",
    "df = pd.read_csv('../data/song_level_dataset.csv')\n",
    "sns.histplot(df['arousal'], kde=True)\n",
    "plt.title('Arousal Distribution')\n",
    "plt.show()"
   ]
  }
 ],
 "metadata": {},
 "nbformat": 4,
 "nbformat_minor": 5
}
