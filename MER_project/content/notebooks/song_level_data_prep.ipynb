{
 "cells": [
  {
   "cell_type": "markdown",
   "id": "ef10eeb6",
   "metadata": {},
   "source": [
    "# Song-Level Data Preparation\n",
    "Prepare song-level data for modeling."
   ]
  },
  {
   "cell_type": "code",
   "execution_count": null,
   "id": "8a014437",
   "metadata": {},
   "outputs": [],
   "source": [
    "import pandas as pd\n",
    "from sklearn.model_selection import train_test_split\n",
    "from sklearn.preprocessing import StandardScaler\n\n",
    "df = pd.read_csv('../data/song_level_dataset.csv')\n",
    "X = df.drop(columns=['arousal', 'valence'])\n",
    "y = df[['arousal', 'valence']]\n",
    "scaler = StandardScaler()\n",
    "X_scaled = scaler.fit_transform(X)\n",
    "X_train, X_test, y_train, y_test = train_test_split(X_scaled, y, test_size=0.2, random_state=42)\n",
    "# Save to data folder\n",
    "pd.DataFrame(X_train).to_csv('../data/X_train_scaled.csv', index=False)\n",
    "pd.DataFrame(X_test).to_csv('../data/X_test_scaled.csv', index=False)\n",
    "y_train.to_csv('../data/y_train.csv', index=False)\n",
    "y_test.to_csv('../data/y_test.csv', index=False)"
   ]
  }
 ],
 "metadata": {},
 "nbformat": 4,
 "nbformat_minor": 5
}
