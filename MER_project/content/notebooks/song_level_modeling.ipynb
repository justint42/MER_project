{
 "cells": [
  {
   "cell_type": "markdown",
   "id": "4574ba39",
   "metadata": {},
   "source": [
    "# Song-Level Modeling\n",
    "Build and evaluate models on song-level data."
   ]
  },
  {
   "cell_type": "code",
   "execution_count": null,
   "id": "7846b554",
   "metadata": {},
   "outputs": [],
   "source": [
    "import pandas as pd\n",
    "from sklearn.linear_model import Ridge\n",
    "from sklearn.metrics import mean_squared_error\n\n",
    "X_train = pd.read_csv('../data/X_train_scaled.csv')\n",
    "X_test = pd.read_csv('../data/X_test_scaled.csv')\n",
    "y_train = pd.read_csv('../data/y_train.csv')\n",
    "y_test = pd.read_csv('../data/y_test.csv')\n\n",
    "model = Ridge()\n",
    "model.fit(X_train, y_train)\n",
    "preds = model.predict(X_test)\n",
    "print('MSE:', mean_squared_error(y_test, preds))"
   ]
  }
 ],
 "metadata": {},
 "nbformat": 4,
 "nbformat_minor": 5
}
